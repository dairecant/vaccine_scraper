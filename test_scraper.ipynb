{
 "metadata": {
  "language_info": {
   "codemirror_mode": {
    "name": "ipython",
    "version": 3
   },
   "file_extension": ".py",
   "mimetype": "text/x-python",
   "name": "python",
   "nbconvert_exporter": "python",
   "pygments_lexer": "ipython3",
   "version": "3.7.4"
  },
  "orig_nbformat": 4,
  "kernelspec": {
   "name": "python3",
   "display_name": "Python 3.7.4 64-bit"
  },
  "interpreter": {
   "hash": "9b8ac6caf3658fe40092c2e2c1dfb976b4f28318e30b4c59e37cd08975d4f81d"
  }
 },
 "nbformat": 4,
 "nbformat_minor": 2,
 "cells": [
  {
   "cell_type": "code",
   "execution_count": 29,
   "metadata": {},
   "outputs": [],
   "source": [
    "import requests\n",
    "from bs4 import BeautifulSoup\n",
    "import smtplib\n",
    "import ssl\n",
    "import os\n"
   ]
  },
  {
   "cell_type": "code",
   "execution_count": 3,
   "metadata": {},
   "outputs": [
    {
     "output_type": "stream",
     "name": "stdout",
     "text": [
      "<!DOCTYPE html>\n<html lang=\"en\">\n <head>\n  <meta charset=\"utf-8\"/>\n  <meta content=\"IE=edge\" http-equiv=\"X-UA-Compatible\"/>\n  <meta content=\"width=device-width, initial-scale=1, shrink-to-fit=no\" name=\"viewport\"/>\n  <link href=\"/shortcut-icons/favicon.ico\" rel=\"shortcut icon\" type=\"image/x-icon\"/>\n  <link href=\"/shortcut-icons/apple-touch-icon-180x180.png\" rel=\"apple-touch-icon\"/>\n  <link color=\"#006858\" href=\"/shortcut-icons/favicon.svg\" rel=\"mask-icon\"/>\n  <link href=\"/shortcut-icons/favicon-192x192.png\" rel=\"icon\" sizes=\"192x192\"/>\n  <meta content=\"/shortcut-icons/mediumtile-144x144.png\" name=\"msapplication-TileImage\"/>\n  <meta content=\"#006858\" name=\"msapplication-TileColor\"/>\n  <meta content=\"/shortcut-icons/smalltile-70x70.png\" name=\"msapplication-square70x70logo\"/>\n  <meta content=\"/shortcut-icons/mediumtile-150x150.png\" name=\"msapplication-square150x150logo\"/>\n  <meta content=\"/shortcut-icons/widetile-310x150.png\" name=\"msapplication-wide310x150logo\"/>\n  <meta content=\"/shortcut-icons/largetile-310x310.png\" name=\"msapplication-square310x310logo\"/>\n  <title>\n   Register to get a COVID-19 vaccine\n  </title>\n  <meta content=\"We will let you know when you can register for a COVID-19 vaccine through your healthcare team, news or advertising. Use this online service when it’s your turn.\" name=\"description\"/>\n  <meta content=\"15\" name=\"next-head-count\"/>\n  <link as=\"style\" href=\"/_next/static/css/1e5bbe458ba5274f195b.css\" rel=\"preload\"/>\n  <link data-n-g=\"\" href=\"/_next/static/css/1e5bbe458ba5274f195b.css\" rel=\"stylesheet\"/>\n  <noscript data-n-css=\"\">\n  </noscript>\n  <link as=\"script\" href=\"/_next/static/chunks/webpack-50bee04d1dc61f8adf5b.js\" rel=\"preload\"/>\n  <link as=\"script\" href=\"/_next/static/chunks/framework.e3de07479da4f2477dea.js\" rel=\"preload\"/>\n  <link as=\"script\" href=\"/_next/static/chunks/8858e914395485aae04bfc3d02c3b91e4cd80bce.0d3e7dd2e82ca9cf48e0.js\" rel=\"preload\"/>\n  <link as=\"script\" href=\"/_next/static/chunks/main-086312f0dc9a8c90f17e.js\" rel=\"preload\"/>\n  <link as=\"script\" href=\"/_next/static/chunks/pages/_app-73e5ea0eea5c74556ca9.js\" rel=\"preload\"/>\n  <link as=\"script\" href=\"/_next/static/chunks/d9717b7458389da47e37f39a09db000a86fd5097.db2b113a30bb7fdef964.js\" rel=\"preload\"/>\n  <link as=\"script\" href=\"/_next/static/chunks/pages/index-065bc4b266a860f48d23.js\" rel=\"preload\"/>\n </head>\n <body>\n  <div id=\"__next\">\n   <header class=\"hse-header\" role=\"banner\">\n    <div class=\"hse-width-container hse-header__container\">\n     <div class=\"hse-header__logo hse-header__logo--only\">\n      <a aria-label=\"HSE homepage\" class=\"hse-header__link hse-header__link--service\" href=\"/\">\n       <svg class=\"hse-logo\" xmlns=\"http://www.w3.org/2000/svg\">\n        <path clip-rule=\"evenodd\" d=\"M23.357 16.223s1.996-3.127 7.033-2.495c5.038.634 6.876-.824 6.876-.824s-3.43 4.744-7.411 3.468c-3.982-1.276-6.498-.15-6.498-.15zM20.174 27.301s1.997-3.126 7.035-2.494c5.038.634 6.876-.824 6.876-.824s-3.43 4.743-7.413 3.467c-3.98-1.276-6.498-.149-6.498-.149zM26.591 5.745s1.996-3.126 7.033-2.493c5.038.634 6.876-.824 6.876-.824s-3.432 4.742-7.412 3.467c-3.98-1.276-6.497-.15-6.497-.15zM16.803 13.395s-.365.341-2.212.341H9.583c-.803 0-.916.321-.916.321.035-.193.142-.707.177-.897.995-5.337 1.778-9.528 1.814-9.675.292-1.154 1.327-1.39 1.327-1.39l-4.797-.007s-.98.018-1.33 1.407c-.099.4-3.475 18.662-4.194 22.736C1.499 27.164.5 27.496.5 27.496h4.748s.918-.074 1.165-1.265c.336-1.612.963-5.184 1.76-9.473.109-.643.778-.579.778-.579h4.782s1.578.03 2.297-.767c.72-.795.773-2.017.773-2.017z\" fill=\"currentColor\" fill-rule=\"evenodd\">\n        </path>\n        <path clip-rule=\"evenodd\" d=\"M17.863 14.029C16.901 32.236 3.526 29.495 3.526 29.495l-.006.136c2.081.422 17.676 2.852 18.656-13.66C23.139-2.234 36.514.506 36.514.506l.006-.137c-2.083-.42-17.676-2.853-18.657 13.66z\" fill=\"currentColor\" fill-rule=\"evenodd\">\n        </path>\n       </svg>\n       <span class=\"hse-header__service-name\" style=\"display:block\">\n        Register to get a COVID-19 vaccine\n       </span>\n      </a>\n     </div>\n    </div>\n   </header>\n   <main class=\"hse-main-wrapper\" id=\"maincontent\">\n    <div class=\"hse-width-container\">\n     <div class=\"hse-grid-row\">\n      <div class=\"hse-grid-column-two-thirds\">\n       <h1>\n        Register to get a COVID-19 vaccine\n       </h1>\n      </div>\n     </div>\n     <div class=\"hse-grid-row home-page\">\n      <div class=\"hse-grid-column-two-thirds\">\n       <div>\n        <p>\n         If you are aged between 40 and 69, you can now register to get a free COVID-19 vaccine.\n        </p>\n        <h2>\n         Things you need to register online\n        </h2>\n        <p>\n         To register online you need:\n        </p>\n        <ul>\n         <li>\n          a mobile phone number\n         </li>\n         <li>\n          an email address\n         </li>\n         <li>\n          your PPS number –\n          <a href=\"https://www2.hse.ie/screening-and-vaccinations/covid-19-vaccine/user-guide/problems-registering-online.html\">\n           here's how to find your PPS number\n          </a>\n         </li>\n         <li>\n          your Eircode – you can\n          <a href=\"https://finder.eircode.ie/#/\">\n           find your Eircode here\n          </a>\n          or you can enter your address in the registration system\n         </li>\n        </ul>\n        <p>\n         If you do not have these things, call the\n         <a href=\"https://www2.hse.ie/services/contact-the-hse/\">\n          COVID-19 helpline\n         </a>\n         to register by phone instead.\n        </p>\n       </div>\n       <button class=\"hse-button hse-u-margin-bottom-9 hse-u-margin-top-6\">\n        Start now\n       </button>\n       <div>\n        <p>\n         <a href=\"https://www2.hse.ie/screening-and-vaccinations/covid-19-vaccine/user-guide/\">\n          Read the user guide for help with registering online\n         </a>\n        </p>\n        <p>\n         <a href=\"https://www2.hse.ie/services/contact-the-hse/\">\n          If you need to register by phone\n         </a>\n        </p>\n        <p>\n         <a href=\"https://www2.hse.ie/screening-and-vaccinations/covid-19-vaccine/user-guide/problems-registering-online.html#Deaf-Irish-Sign-Language-users\">\n          If you are deaf or hard of hearing\n         </a>\n        </p>\n        <h2>\n         Registering someone else\n        </h2>\n        <p>\n         You can also use this service to register someone else. Read our guide on\n         <a href=\"https://www2.hse.ie/screening-and-vaccinations/covid-19-vaccine/user-guide/registering-someone-else.html\">\n          how to prepare to register someone else\n         </a>\n         .\n         <br/>\n        </p>\n        <p>\n         If you need to register more than 1 person, you need to log out after every registration. Use the icon in the top right-hand corner of the screen to log out and then start again.\n        </p>\n        <h2>\n         After you register\n        </h2>\n        <p>\n         We will send you text messages with your vaccination appointment details 3 to 7 days before your appointments.\n        </p>\n        <h2>\n         Why we need your information\n        </h2>\n        <p>\n         We only collect the\n         <a href=\"https://www2.hse.ie/screening-and-vaccinations/covid-19-vaccine/user-guide/why-we-ask-for-the-information-we-do.html\">\n          information we need\n         </a>\n         to identify you, book your appointment, vaccinate you safely, record your vaccination and monitor the vaccination programme.\n        </p>\n        <h2>\n         Feedback\n        </h2>\n        <p>\n         If you have any feedback on the COVID-19 vaccine registration system or information, please use this\n         <a href=\"https://surveys.hse.ie/s/Covid-19-Vaccine-Registration-Feedback/\">\n          feedback form\n         </a>\n         .\n        </p>\n        <p>\n        </p>\n       </div>\n      </div>\n     </div>\n    </div>\n   </main>\n   <footer role=\"contentinfo\">\n    <div class=\"hse-footer\" id=\"hse-footer\">\n     <div class=\"hse-footer__bottom\">\n      <div class=\"hse-width-container\">\n       <h2 class=\"hse-u-visually-hidden\">\n        Support links\n       </h2>\n       <ul class=\"hse-footer__list hse-footer__list--row\">\n        <li class=\"hse-footer__list-item\">\n         <a class=\"hse-footer__list-item-link\" href=\"https://www.hse.ie/eng/gdpr/data-protection-covid-19/data-protection-covid-19-vaccine-information-system.html\" rel=\"noopener noreferrer\" target=\"_blank\">\n          Privacy Statement\n         </a>\n        </li>\n        <li class=\"hse-footer__list-item\">\n         <a class=\"hse-footer__list-item-link\" href=\"/cookies/\">\n          Cookie Statement\n         </a>\n        </li>\n       </ul>\n      </div>\n     </div>\n    </div>\n   </footer>\n  </div>\n  <script id=\"__NEXT_DATA__\" type=\"application/json\">\n   {\"props\":{\"pageProps\":{\"data\":{\"id\":1706,\"meta\":{\"type\":\"vaccine_portal.VaccinePortalHomePage\",\"detail_url\":\"http://vaccine.prd.hse.dept.ie/api/pages/1706/\",\"html_url\":\"http://vaccine.prd.hse.dept.ie/\",\"slug\":\"vaccine-portal\",\"show_in_menus\":false,\"seo_title\":\"Register to get a COVID-19 vaccine\",\"search_description\":\"We will let you know when you can register for a COVID-19 vaccine through your healthcare team, news or advertising. Use this online service when it’s your turn.\",\"first_published_at\":\"2021-03-04T12:27:23.078239Z\",\"parent\":null},\"title\":\"Register to get a COVID-19 vaccine\",\"description\":\"We will let you know when you can register for a COVID-19 vaccine through your healthcare team, news or advertising. Use this online service when it’s your turn.\",\"top_content\":\"\\u003cp\\u003eIf you are aged between 40 and 69, you can now register to get a free COVID-19 vaccine.\\u003c/p\\u003e\\u003ch2\\u003eThings you need to register online\\u003c/h2\\u003e\\u003cp\\u003eTo register online you need:\\u003c/p\\u003e\\u003cul\\u003e\\u003cli\\u003ea mobile phone number\\u003c/li\\u003e\\u003cli\\u003ean email address\\u003c/li\\u003e\\u003cli\\u003eyour PPS number – \\u003ca href=\\\"https://www2.hse.ie/screening-and-vaccinations/covid-19-vaccine/user-guide/problems-registering-online.html\\\"\\u003ehere\\u0026#x27;s how to find your PPS number\\u003c/a\\u003e\\u003c/li\\u003e\\u003cli\\u003eyour Eircode – you can \\u003ca href=\\\"https://finder.eircode.ie/#/\\\"\\u003efind your Eircode here\\u003c/a\\u003e or you can enter your address in the registration system\\u003c/li\\u003e\\u003c/ul\\u003e\\u003cp\\u003eIf you do not have these things, call the \\u003ca href=\\\"https://www2.hse.ie/services/contact-the-hse/\\\"\\u003eCOVID-19 helpline\\u003c/a\\u003e to register by phone instead.\\u003c/p\\u003e\",\"bottom_content\":\"\\u003cp\\u003e\\u003ca href=\\\"https://www2.hse.ie/screening-and-vaccinations/covid-19-vaccine/user-guide/\\\"\\u003eRead the user guide for help with registering online\\u003c/a\\u003e\\u003c/p\\u003e\\u003cp\\u003e\\u003ca href=\\\"https://www2.hse.ie/services/contact-the-hse/\\\"\\u003eIf you need to register by phone\\u003c/a\\u003e\\u003c/p\\u003e\\u003cp\\u003e\\u003ca href=\\\"https://www2.hse.ie/screening-and-vaccinations/covid-19-vaccine/user-guide/problems-registering-online.html#Deaf-Irish-Sign-Language-users\\\"\\u003eIf you are deaf or hard of hearing\\u003c/a\\u003e\\u003c/p\\u003e\\u003ch2\\u003eRegistering someone else\\u003c/h2\\u003e\\u003cp\\u003eYou can also use this service to register someone else. Read our guide on \\u003ca href=\\\"https://www2.hse.ie/screening-and-vaccinations/covid-19-vaccine/user-guide/registering-someone-else.html\\\"\\u003ehow to prepare to register someone else\\u003c/a\\u003e.\\u003cbr/\\u003e\\u003c/p\\u003e\\u003cp\\u003eIf you need to register more than 1 person, you need to log out after every registration. Use the icon in the top right-hand corner of the screen to log out and then start again.\\u003c/p\\u003e\\u003ch2\\u003eAfter you register\\u003c/h2\\u003e\\u003cp\\u003eWe will send you text messages with your vaccination appointment details 3 to 7 days before your appointments.\\u003c/p\\u003e\\u003ch2\\u003eWhy we need your information\\u003c/h2\\u003e\\u003cp\\u003eWe only collect the \\u003ca href=\\\"https://www2.hse.ie/screening-and-vaccinations/covid-19-vaccine/user-guide/why-we-ask-for-the-information-we-do.html\\\"\\u003einformation we need\\u003c/a\\u003e to identify you, book your appointment, vaccinate you safely, record your vaccination and monitor the vaccination programme.\\u003c/p\\u003e\\u003ch2\\u003eFeedback\\u003c/h2\\u003e\\u003cp\\u003eIf you have any feedback on the COVID-19 vaccine registration system or information, please use this \\u003ca href=\\\"https://surveys.hse.ie/s/Covid-19-Vaccine-Registration-Feedback/\\\"\\u003efeedback form\\u003c/a\\u003e.\\u003c/p\\u003e\\u003cp\\u003e\\u003c/p\\u003e\",\"links\":[],\"maintenance_mode\":false,\"maintenance_mode_content\":\"\\u003cp\\u003e\\u003c/p\\u003e\\u003cp\\u003eThe online registration service is being updated. It will be available again tomorrow morning.\\u003c/p\\u003e\"}},\"__N_SSG\":true},\"page\":\"/\",\"query\":{},\"buildId\":\"EmxZDUm5fTvCBQxqyWzXU\",\"nextExport\":false,\"isFallback\":false,\"gsp\":true}\n  </script>\n  <script nomodule=\"\" src=\"/_next/static/chunks/polyfills-28654a8145d7603786fc.js\">\n  </script>\n  <script async=\"\" src=\"/_next/static/chunks/webpack-50bee04d1dc61f8adf5b.js\">\n  </script>\n  <script async=\"\" src=\"/_next/static/chunks/framework.e3de07479da4f2477dea.js\">\n  </script>\n  <script async=\"\" src=\"/_next/static/chunks/8858e914395485aae04bfc3d02c3b91e4cd80bce.0d3e7dd2e82ca9cf48e0.js\">\n  </script>\n  <script async=\"\" src=\"/_next/static/chunks/main-086312f0dc9a8c90f17e.js\">\n  </script>\n  <script async=\"\" src=\"/_next/static/chunks/pages/_app-73e5ea0eea5c74556ca9.js\">\n  </script>\n  <script async=\"\" src=\"/_next/static/chunks/d9717b7458389da47e37f39a09db000a86fd5097.db2b113a30bb7fdef964.js\">\n  </script>\n  <script async=\"\" src=\"/_next/static/chunks/pages/index-065bc4b266a860f48d23.js\">\n  </script>\n  <script async=\"\" src=\"/_next/static/EmxZDUm5fTvCBQxqyWzXU/_buildManifest.js\">\n  </script>\n  <script async=\"\" src=\"/_next/static/EmxZDUm5fTvCBQxqyWzXU/_ssgManifest.js\">\n  </script>\n  <script defer=\"\" src=\"/scripts/iframeResizer.contentWindow.min.js\">\n  </script>\n  <script async=\"\" src=\"/_Incapsula_Resource?SWJIYLWA=719d34d31c8e3a6e6fffd425f7e032f3&amp;ns=1&amp;cb=266398975\" type=\"text/javascript\">\n  </script>\n </body>\n</html>\n"
     ]
    }
   ],
   "source": [
    "url = 'https://vaccine.hse.ie/'\n",
    "page = requests.get(url)\n",
    "soup = BeautifulSoup(page.content,'html.parser')\n",
    "print(soup.prettify())"
   ]
  },
  {
   "cell_type": "code",
   "execution_count": 5,
   "metadata": {},
   "outputs": [
    {
     "output_type": "stream",
     "name": "stdout",
     "text": [
      "[<div class=\"hse-grid-column-two-thirds\"><h1>Register to get a COVID-19 vaccine</h1></div>, <div class=\"hse-grid-column-two-thirds\"><div><p>If you are aged between 40 and 69, you can now register to get a free COVID-19 vaccine.</p><h2>Things you need to register online</h2><p>To register online you need:</p><ul><li>a mobile phone number</li><li>an email address</li><li>your PPS number – <a href=\"https://www2.hse.ie/screening-and-vaccinations/covid-19-vaccine/user-guide/problems-registering-online.html\">here's how to find your PPS number</a></li><li>your Eircode – you can <a href=\"https://finder.eircode.ie/#/\">find your Eircode here</a> or you can enter your address in the registration system</li></ul><p>If you do not have these things, call the <a href=\"https://www2.hse.ie/services/contact-the-hse/\">COVID-19 helpline</a> to register by phone instead.</p></div><button class=\"hse-button hse-u-margin-bottom-9 hse-u-margin-top-6\">Start now</button><div><p><a href=\"https://www2.hse.ie/screening-and-vaccinations/covid-19-vaccine/user-guide/\">Read the user guide for help with registering online</a></p><p><a href=\"https://www2.hse.ie/services/contact-the-hse/\">If you need to register by phone</a></p><p><a href=\"https://www2.hse.ie/screening-and-vaccinations/covid-19-vaccine/user-guide/problems-registering-online.html#Deaf-Irish-Sign-Language-users\">If you are deaf or hard of hearing</a></p><h2>Registering someone else</h2><p>You can also use this service to register someone else. Read our guide on <a href=\"https://www2.hse.ie/screening-and-vaccinations/covid-19-vaccine/user-guide/registering-someone-else.html\">how to prepare to register someone else</a>.<br/></p><p>If you need to register more than 1 person, you need to log out after every registration. Use the icon in the top right-hand corner of the screen to log out and then start again.</p><h2>After you register</h2><p>We will send you text messages with your vaccination appointment details 3 to 7 days before your appointments.</p><h2>Why we need your information</h2><p>We only collect the <a href=\"https://www2.hse.ie/screening-and-vaccinations/covid-19-vaccine/user-guide/why-we-ask-for-the-information-we-do.html\">information we need</a> to identify you, book your appointment, vaccinate you safely, record your vaccination and monitor the vaccination programme.</p><h2>Feedback</h2><p>If you have any feedback on the COVID-19 vaccine registration system or information, please use this <a href=\"https://surveys.hse.ie/s/Covid-19-Vaccine-Registration-Feedback/\">feedback form</a>.</p><p></p></div></div>]\n"
     ]
    }
   ],
   "source": [
    "results=soup.find_all('div',class_='hse-grid-column-two-thirds')\n",
    "print(results)"
   ]
  },
  {
   "cell_type": "code",
   "execution_count": 6,
   "metadata": {},
   "outputs": [],
   "source": [
    "\n",
    "for x in results:\n",
    "    p=x.find_all('p')"
   ]
  },
  {
   "cell_type": "code",
   "execution_count": 51,
   "metadata": {},
   "outputs": [
    {
     "output_type": "stream",
     "name": "stdout",
     "text": [
      "<p>If you are aged between 40 and 69, you can now register to get a free COVID-19 vaccine.</p>\n<p>To register online you need:</p>\n<p>If you do not have these things, call the <a href=\"https://www2.hse.ie/services/contact-the-hse/\">COVID-19 helpline</a> to register by phone instead.</p>\n<p><a href=\"https://www2.hse.ie/screening-and-vaccinations/covid-19-vaccine/user-guide/\">Read the user guide for help with registering online</a></p>\n<p><a href=\"https://www2.hse.ie/services/contact-the-hse/\">If you need to register by phone</a></p>\n<p><a href=\"https://www2.hse.ie/screening-and-vaccinations/covid-19-vaccine/user-guide/problems-registering-online.html#Deaf-Irish-Sign-Language-users\">If you are deaf or hard of hearing</a></p>\n<p>You can also use this service to register someone else. Read our guide on <a href=\"https://www2.hse.ie/screening-and-vaccinations/covid-19-vaccine/user-guide/registering-someone-else.html\">how to prepare to register someone else</a>.<br/></p>\n<p>If you need to register more than 1 person, you need to log out after every registration. Use the icon in the top right-hand corner of the screen to log out and then start again.</p>\n<p>We will send you text messages with your vaccination appointment details 3 to 7 days before your appointments.</p>\n<p>We only collect the <a href=\"https://www2.hse.ie/screening-and-vaccinations/covid-19-vaccine/user-guide/why-we-ask-for-the-information-we-do.html\">information we need</a> to identify you, book your appointment, vaccinate you safely, record your vaccination and monitor the vaccination programme.</p>\n<p>If you have any feedback on the COVID-19 vaccine registration system or information, please use this <a href=\"https://surveys.hse.ie/s/Covid-19-Vaccine-Registration-Feedback/\">feedback form</a>.</p>\n<p></p>\n"
     ]
    }
   ],
   "source": [
    "for i in p:\n",
    "    print(i)"
   ]
  },
  {
   "cell_type": "code",
   "execution_count": 37,
   "metadata": {},
   "outputs": [],
   "source": [
    "#scrape html to find age range\n",
    "\n",
    "age = 25\n",
    "for count,i in enumerate(p):\n",
    "    x = str(i.string).split(' ')\n",
    "    search='age'\n",
    "    res = [i for i in x if i.startswith(search)]\n",
    "\n",
    "    age_range = [int(i.replace(',','')) for i in x if i.replace(',','').isnumeric()]\n",
    "    if(res and age_range):\n",
    "        #print(x)\n",
    "        #print(nums)\n",
    "        if((age >= min(age_range)) and (age <= max(age_range))):\n",
    "            message = 'You are elligble to be vaccinated against COVID-19'\n",
    "        else:\n",
    "            message = 'You are not elligble to be vaccinated against COVID-19. You will be notified.'\n",
    "\n",
    "        \n",
    "\n"
   ]
  },
  {
   "cell_type": "code",
   "execution_count": 39,
   "metadata": {},
   "outputs": [
    {
     "output_type": "error",
     "ename": "SyntaxError",
     "evalue": "unexpected EOF while parsing (<ipython-input-39-505c8ddccc8f>, line 17)",
     "traceback": [
      "\u001b[1;36m  File \u001b[1;32m\"<ipython-input-39-505c8ddccc8f>\"\u001b[1;36m, line \u001b[1;32m17\u001b[0m\n\u001b[1;33m    server.sendmail(sender_email, receiver_email, message)\u001b[0m\n\u001b[1;37m                                                          ^\u001b[0m\n\u001b[1;31mSyntaxError\u001b[0m\u001b[1;31m:\u001b[0m unexpected EOF while parsing\n"
     ]
    }
   ],
   "source": [
    "#test sending email\n",
    "sender_email     = \"dazzlersdevelopments@gmail.com\" # Enter your address\n",
    "receiver_email = \"dairecan11@gmail.com\"  # Enter your address\n",
    "\n",
    "\n",
    "\n",
    "port = 465  # For SSL\n",
    "password = \"CodePortfolio2021!\"\n",
    "\n",
    "# Create a secure SSL context\n",
    "context = ssl.create_default_context()\n",
    "\n",
    "with smtplib.SMTP_SSL(\"smtp.gmail.com\", port, context=context) as server:\n",
    "    # TODO: Send email here\n",
    "    try:\n",
    "        server.login(sender_email, password)\n",
    "        server.sendmail(sender_email, receiver_email, message)\n",
    "        exit()\n",
    "    except Exception as e:\n",
    "        print(type(e),e)\n",
    "        print('login failed')\n"
   ]
  },
  {
   "cell_type": "code",
   "execution_count": null,
   "metadata": {},
   "outputs": [],
   "source": []
  }
 ]
}